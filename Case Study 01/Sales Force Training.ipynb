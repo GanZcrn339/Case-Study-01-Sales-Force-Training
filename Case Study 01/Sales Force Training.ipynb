{
 "cells": [
  {
   "cell_type": "code",
   "execution_count": 5,
   "id": "0ca6f8eb-3fc4-471e-9708-f21241dea7bc",
   "metadata": {
    "scrolled": true
   },
   "outputs": [],
   "source": [
    "#Import Libraries\n",
    "import pandas as pd\n",
    "import numpy as np"
   ]
  },
  {
   "cell_type": "code",
   "execution_count": 6,
   "id": "5de73984-7110-4ded-97fc-e0fa6ed4ab0c",
   "metadata": {},
   "outputs": [
    {
     "data": {
      "text/html": [
       "<div>\n",
       "<style scoped>\n",
       "    .dataframe tbody tr th:only-of-type {\n",
       "        vertical-align: middle;\n",
       "    }\n",
       "\n",
       "    .dataframe tbody tr th {\n",
       "        vertical-align: top;\n",
       "    }\n",
       "\n",
       "    .dataframe thead th {\n",
       "        text-align: right;\n",
       "    }\n",
       "</style>\n",
       "<table border=\"1\" class=\"dataframe\">\n",
       "  <thead>\n",
       "    <tr style=\"text-align: right;\">\n",
       "      <th></th>\n",
       "      <th>TransactionAmount</th>\n",
       "    </tr>\n",
       "  </thead>\n",
       "  <tbody>\n",
       "    <tr>\n",
       "      <th>0</th>\n",
       "      <td>100</td>\n",
       "    </tr>\n",
       "    <tr>\n",
       "      <th>1</th>\n",
       "      <td>150</td>\n",
       "    </tr>\n",
       "    <tr>\n",
       "      <th>2</th>\n",
       "      <td>50</td>\n",
       "    </tr>\n",
       "    <tr>\n",
       "      <th>3</th>\n",
       "      <td>100</td>\n",
       "    </tr>\n",
       "    <tr>\n",
       "      <th>4</th>\n",
       "      <td>130</td>\n",
       "    </tr>\n",
       "    <tr>\n",
       "      <th>5</th>\n",
       "      <td>120</td>\n",
       "    </tr>\n",
       "    <tr>\n",
       "      <th>6</th>\n",
       "      <td>100</td>\n",
       "    </tr>\n",
       "    <tr>\n",
       "      <th>7</th>\n",
       "      <td>85</td>\n",
       "    </tr>\n",
       "    <tr>\n",
       "      <th>8</th>\n",
       "      <td>70</td>\n",
       "    </tr>\n",
       "    <tr>\n",
       "      <th>9</th>\n",
       "      <td>150</td>\n",
       "    </tr>\n",
       "    <tr>\n",
       "      <th>10</th>\n",
       "      <td>150</td>\n",
       "    </tr>\n",
       "    <tr>\n",
       "      <th>11</th>\n",
       "      <td>120</td>\n",
       "    </tr>\n",
       "    <tr>\n",
       "      <th>12</th>\n",
       "      <td>50</td>\n",
       "    </tr>\n",
       "    <tr>\n",
       "      <th>13</th>\n",
       "      <td>100</td>\n",
       "    </tr>\n",
       "    <tr>\n",
       "      <th>14</th>\n",
       "      <td>100</td>\n",
       "    </tr>\n",
       "    <tr>\n",
       "      <th>15</th>\n",
       "      <td>140</td>\n",
       "    </tr>\n",
       "    <tr>\n",
       "      <th>16</th>\n",
       "      <td>90</td>\n",
       "    </tr>\n",
       "    <tr>\n",
       "      <th>17</th>\n",
       "      <td>150</td>\n",
       "    </tr>\n",
       "    <tr>\n",
       "      <th>18</th>\n",
       "      <td>50</td>\n",
       "    </tr>\n",
       "    <tr>\n",
       "      <th>19</th>\n",
       "      <td>90</td>\n",
       "    </tr>\n",
       "    <tr>\n",
       "      <th>20</th>\n",
       "      <td>120</td>\n",
       "    </tr>\n",
       "    <tr>\n",
       "      <th>21</th>\n",
       "      <td>100</td>\n",
       "    </tr>\n",
       "    <tr>\n",
       "      <th>22</th>\n",
       "      <td>110</td>\n",
       "    </tr>\n",
       "    <tr>\n",
       "      <th>23</th>\n",
       "      <td>75</td>\n",
       "    </tr>\n",
       "    <tr>\n",
       "      <th>24</th>\n",
       "      <td>65</td>\n",
       "    </tr>\n",
       "  </tbody>\n",
       "</table>\n",
       "</div>"
      ],
      "text/plain": [
       "    TransactionAmount\n",
       "0                 100\n",
       "1                 150\n",
       "2                  50\n",
       "3                 100\n",
       "4                 130\n",
       "5                 120\n",
       "6                 100\n",
       "7                  85\n",
       "8                  70\n",
       "9                 150\n",
       "10                150\n",
       "11                120\n",
       "12                 50\n",
       "13                100\n",
       "14                100\n",
       "15                140\n",
       "16                 90\n",
       "17                150\n",
       "18                 50\n",
       "19                 90\n",
       "20                120\n",
       "21                100\n",
       "22                110\n",
       "23                 75\n",
       "24                 65"
      ]
     },
     "execution_count": 6,
     "metadata": {},
     "output_type": "execute_result"
    }
   ],
   "source": [
    "#Create DataFrame\n",
    "# Data transaksi\n",
    "data = [100, 150, 50, 100, 130, 120, 100, 85, 70, 150, \n",
    "        150, 120, 50, 100, 100, 140, 90, 150, 50, 90, \n",
    "        120, 100, 110, 75, 65]\n",
    "\n",
    "# Membuat DataFrame\n",
    "df = pd.DataFrame(data, columns=['TransactionAmount'])\n",
    "\n",
    "# Menampilkan DataFrame\n",
    "df"
   ]
  },
  {
   "cell_type": "code",
   "execution_count": 7,
   "id": "1da6544b-a259-4573-936a-558372807f58",
   "metadata": {},
   "outputs": [
    {
     "name": "stdout",
     "output_type": "stream",
     "text": [
      "Mean (Rata-rata): 102.6\n",
      "Median (Nilai tengah): 100.0\n",
      "Mode (Modus): 100\n"
     ]
    }
   ],
   "source": [
    "#Central Tendency\n",
    "# Menghitung Mean, Median, dan Mode\n",
    "mean_value = df['TransactionAmount'].mean()\n",
    "median_value = df['TransactionAmount'].median()\n",
    "mode_value = df['TransactionAmount'].mode()[0]  # [0] untuk mendapatkan nilai mode pertama jika ada beberapa mode\n",
    "\n",
    "# Menampilkan hasil\n",
    "print(f\"Mean (Rata-rata): {mean_value}\")\n",
    "print(f\"Median (Nilai tengah): {median_value}\")\n",
    "print(f\"Mode (Modus): {mode_value}\")"
   ]
  },
  {
   "cell_type": "code",
   "execution_count": 8,
   "id": "98e37a18-c6c1-4011-bc5e-f7e28c23417f",
   "metadata": {},
   "outputs": [
    {
     "name": "stdout",
     "output_type": "stream",
     "text": [
      "Range: 100\n",
      "Variance (Ragam): 1012.7499999999999\n",
      "Standard Deviation (Simpangan Baku): 31.823733281939123\n",
      "Interquartile Range (IQR): 35.0\n"
     ]
    }
   ],
   "source": [
    "# Measure of variability\n",
    "range_value = df['TransactionAmount'].max() - df['TransactionAmount'].min()\n",
    "variance_value = df['TransactionAmount'].var()\n",
    "std_dev_value = df['TransactionAmount'].std()\n",
    "q1 = df['TransactionAmount'].quantile(0.25)\n",
    "q3 = df['TransactionAmount'].quantile(0.75)\n",
    "iqr_value = q3 - q1\n",
    "\n",
    "# Menampilkan hasil\n",
    "print(f\"Range: {range_value}\")\n",
    "print(f\"Variance (Ragam): {variance_value}\")\n",
    "print(f\"Standard Deviation (Simpangan Baku): {std_dev_value}\")\n",
    "print(f\"Interquartile Range (IQR): {iqr_value}\")\n"
   ]
  },
  {
   "cell_type": "code",
   "execution_count": 9,
   "id": "a9ac2e8b-4c4a-4f98-8110-0070e32da4eb",
   "metadata": {},
   "outputs": [
    {
     "ename": "SyntaxError",
     "evalue": "invalid character '±' (U+00B1) (2980976011.py, line 9)",
     "output_type": "error",
     "traceback": [
      "\u001b[1;36m  Cell \u001b[1;32mIn[9], line 9\u001b[1;36m\u001b[0m\n\u001b[1;33m    Insight: Dengan simpangan baku ini, sekitar 68% dari nilai transaksi berada dalam rentang $71.93 hingga $133.67 ($102.8 ± 30.87). Artinya, sebagian besar transaksi relatif mendekati rata-rata, tetapi ada juga nilai ekstrem.\u001b[0m\n\u001b[1;37m                                                                                                                            ^\u001b[0m\n\u001b[1;31mSyntaxError\u001b[0m\u001b[1;31m:\u001b[0m invalid character '±' (U+00B1)\n"
     ]
    }
   ],
   "source": [
    "#Tulis analisismu dari Variability di sini\n",
    "\n",
    "#1. Range: 100\n",
    "#Interpretasi: Rentang nilai transaksi adalah $100, yang menunjukkan selisih antara nilai tertinggi ($150) dan terendah ($50).\n",
    "#Insight: Rentang yang cukup besar ini menunjukkan bahwa transaksi memiliki variasi nilai yang signifikan. Ada transaksi dengan nilai rendah dan juga yang cukup tinggi, menunjukkan ketidakkonsistenan dalam jumlah transaksi.\n",
    "#2. Variance: 952.33\n",
    "#Interpretasi: Ragam atau variance sebesar 952.33 menggambarkan tingkat penyebaran data dari rata-rata ($102.8).\n",
    "#Insight: Variance yang tinggi mengindikasikan adanya perbedaan besar dalam jumlah transaksi antar sales setelah pelatihan. Beberapa sales mencatat transaksi yang jauh dari rata-rata.\n",
    "#3. Standard Deviation: 30.87\n",
    "#Interpretasi: Simpangan baku sebesar 30.87 menunjukkan rata-rata penyimpangan transaksi dari mean ($102.8).\n",
    "#Insight: Dengan simpangan baku ini, sekitar 68% dari nilai transaksi berada dalam rentang $71.93 hingga $133.67 ($102.8 ± 30.87). Artinya, sebagian besar transaksi relatif mendekati rata-rata, tetapi ada juga nilai ekstrem.\n",
    "#4. Interquartile Range (IQR): 50\n",
    "#Interpretasi: Selisih antara kuartil ketiga ($140) dan kuartil pertama ($90) adalah $50.\n",
    "#Insight: Nilai IQR menggambarkan bahwa 50% data utama berada dalam rentang $90 hingga $140, yang menunjukkan bahwa sebagian besar transaksi tidak terlalu jauh dari nilai tengah meskipun ada outlier di data.\n",
    "#Kesimpulan Umum:\n",
    "#Variabilitas data TransactionAmount menunjukkan bahwa meskipun sebagian besar transaksi berada di sekitar rata-rata dan dalam IQR ($90 - $140), terdapat nilai transaksi yang menyimpang cukup jauh, seperti $50 atau $150. Hal ini dapat menunjukkan\n",
    "#keberhasilan pelatihan pada beberapa sales, tetapi juga adanya potensi sales yang performanya perlu ditingkatkan."
   ]
  },
  {
   "cell_type": "code",
   "execution_count": null,
   "id": "54d88769-0d98-4f90-9aa2-3e1ea226745d",
   "metadata": {},
   "outputs": [],
   "source": [
    "#Define H0 and H1\n",
    "#H₀ (Hipotesis Nol): Rata-rata transaksi setelah pelatihan ≤ $100 (μ≤100).\n",
    "#H₁ (Hipotesis Alternatif): Rata-rata transaksi setelah pelatihan > $100 (μ>100)."
   ]
  },
  {
   "cell_type": "code",
   "execution_count": 15,
   "id": "43ebf6fc-b0a6-4cd5-a446-e41e33d2dfc9",
   "metadata": {},
   "outputs": [],
   "source": [
    "# Define alpha = 0.05\n",
    "alpha = 0.05"
   ]
  },
  {
   "cell_type": "code",
   "execution_count": 16,
   "id": "7afd87b8-cd7c-42b1-9359-4a816884df31",
   "metadata": {},
   "outputs": [
    {
     "name": "stdout",
     "output_type": "stream",
     "text": [
      "T-Statistic: 0.40850015568028414\n",
      "P-Value: 0.34145325813656235\n"
     ]
    }
   ],
   "source": [
    "#Menghitung T-Statistic dan P-Value\n",
    "\n",
    "import numpy as np\n",
    "import pandas as pd\n",
    "from math import sqrt\n",
    "\n",
    "# Data transaksi\n",
    "transaction_amounts = [\n",
    "    100, 150, 50, 100, 130, 120, 100, 85, 70, 150,\n",
    "    150, 120, 50, 100, 100, 140, 90, 150, 50, 90,\n",
    "    120, 100, 110, 75, 65\n",
    "]\n",
    "\n",
    "# Membuat DataFrame\n",
    "df = pd.DataFrame(transaction_amounts, columns=['TransactionAmount'])\n",
    "\n",
    "# Parameter\n",
    "population_mean = 100  # Nilai rata-rata dari H0\n",
    "n = len(df)  # Jumlah sampel\n",
    "sample_mean = df['TransactionAmount'].mean()  # Rata-rata sampel\n",
    "sample_std = df['TransactionAmount'].std(ddof=1)  # Simpangan baku sampel\n",
    "\n",
    "# Menghitung T-Statistic\n",
    "t_stat = (sample_mean - population_mean) / (sample_std / sqrt(n))\n",
    "\n",
    "# Derajat kebebasan\n",
    "df_degrees = n - 1\n",
    "\n",
    "# Menghitung p-value dengan distribusi t\n",
    "from math import erf\n",
    "\n",
    "def t_cdf(x, df):\n",
    "    return (1 + erf(x / sqrt(2))) / 2\n",
    "\n",
    "p_value = 1 - t_cdf(abs(t_stat), df_degrees)\n",
    "\n",
    "# Menampilkan hasil\n",
    "print(f\"T-Statistic: {t_stat}\")\n",
    "print(f\"P-Value: {p_value}\")\n"
   ]
  },
  {
   "cell_type": "code",
   "execution_count": 17,
   "id": "94e2e139-0342-48f9-b677-2c88a62f9a41",
   "metadata": {},
   "outputs": [
    {
     "name": "stdout",
     "output_type": "stream",
     "text": [
      "statistic = 0.41, pvalue = 0.34\n"
     ]
    }
   ],
   "source": [
    "#Hasil Statistik dan P-Value\n",
    "# Statistic and pvalue\n",
    "statistic = t_stat\n",
    "pvalue = p_value\n",
    "print(f\"statistic = {statistic:.2f}, pvalue = {pvalue:.2f}\")\n"
   ]
  },
  {
   "cell_type": "code",
   "execution_count": 18,
   "id": "9445a06e-ac57-4beb-890a-f0640e0f9ae0",
   "metadata": {},
   "outputs": [
    {
     "name": "stdout",
     "output_type": "stream",
     "text": [
      "Conclusion: Fail to reject H0: There is not enough evidence to say the training affected transaction amounts.\n"
     ]
    }
   ],
   "source": [
    "#Menyimpulkan Berdasarkan Alpha dan P-Value\n",
    "# Conclude with alpha and p-value\n",
    "if p_value < alpha:\n",
    "    conclusion = \"Reject H0: There is enough evidence to say the training affected transaction amounts.\"\n",
    "else:\n",
    "    conclusion = \"Fail to reject H0: There is not enough evidence to say the training affected transaction amounts.\"\n",
    "\n",
    "print(f\"Conclusion: {conclusion}\")\n"
   ]
  },
  {
   "cell_type": "code",
   "execution_count": 19,
   "id": "486796f0-3c71-4075-824e-ce4e2d384f3f",
   "metadata": {},
   "outputs": [
    {
     "name": "stdout",
     "output_type": "stream",
     "text": [
      "Critical region result: Fail to reject H0: T-Statistic is not in the critical region.\n"
     ]
    }
   ],
   "source": [
    "#Menyimpulkan Berdasarkan T-Statistic dan Critical Region\n",
    "# Conclude with t statistics and critical region\n",
    "# Find the critical region\n",
    "# Critical region is based on T-Value from t-distribution table (for alpha = 0.05, df = 24)\n",
    "t_critical = 2.064  # This is the critical t-value for a two-tailed test at alpha = 0.05 and df = 24\n",
    "\n",
    "# Conclusion based on T-Statistic\n",
    "if abs(t_stat) > t_critical:\n",
    "    critical_region_result = \"Reject H0: T-Statistic is in the critical region.\"\n",
    "else:\n",
    "    critical_region_result = \"Fail to reject H0: T-Statistic is not in the critical region.\"\n",
    "\n",
    "print(f\"Critical region result: {critical_region_result}\")\n"
   ]
  },
  {
   "cell_type": "code",
   "execution_count": 20,
   "id": "fde38390-b6d8-494e-8289-4582930a9e09",
   "metadata": {},
   "outputs": [
    {
     "name": "stdout",
     "output_type": "stream",
     "text": [
      "Based on the T-Statistic (0.41) and P-Value (0.34), we fail to reject h0: there is not enough evidence to say the training affected transaction amounts. and the T-Statistic is fail to reject h0: t-statistic is not in the critical region..\n"
     ]
    }
   ],
   "source": [
    "#Hasil Akhir dan Kesimpulan\n",
    "# Final conclusion\n",
    "final_conclusion = f\"Based on the T-Statistic ({t_stat:.2f}) and P-Value ({p_value:.2f}), we {conclusion.lower()} \" \\\n",
    "                   f\"and the T-Statistic is {critical_region_result.lower()}.\"\n",
    "print(final_conclusion)\n"
   ]
  },
  {
   "cell_type": "code",
   "execution_count": null,
   "id": "9df971b2-6c11-482b-8a6f-f3e7c6ae5ce6",
   "metadata": {},
   "outputs": [],
   "source": []
  }
 ],
 "metadata": {
  "kernelspec": {
   "display_name": "Python 3 (ipykernel)",
   "language": "python",
   "name": "python3"
  },
  "language_info": {
   "codemirror_mode": {
    "name": "ipython",
    "version": 3
   },
   "file_extension": ".py",
   "mimetype": "text/x-python",
   "name": "python",
   "nbconvert_exporter": "python",
   "pygments_lexer": "ipython3",
   "version": "3.12.4"
  }
 },
 "nbformat": 4,
 "nbformat_minor": 5
}
